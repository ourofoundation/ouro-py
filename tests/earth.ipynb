{
 "cells": [
  {
   "cell_type": "code",
   "execution_count": 1,
   "metadata": {},
   "outputs": [
    {
     "name": "stdout",
     "output_type": "stream",
     "text": [
      "Obtaining file:///Users/mmoderwell/ouro/ouro-py\n",
      "  Installing build dependencies ... \u001b[?25ldone\n",
      "\u001b[?25h  Checking if build backend supports build_editable ... \u001b[?25ldone\n",
      "\u001b[?25h  Getting requirements to build editable ... \u001b[?25ldone\n",
      "\u001b[?25h  Installing backend dependencies ... \u001b[?25ldone\n",
      "\u001b[?25h  Preparing editable metadata (pyproject.toml) ... \u001b[?25ldone\n",
      "\u001b[?25hRequirement already satisfied: anyio in /Users/mmoderwell/.pyenv/versions/3.12.0/envs/ouro/lib/python3.12/site-packages (from ouro-py==0.2.16) (4.3.0)\n",
      "Requirement already satisfied: distro in /Users/mmoderwell/.pyenv/versions/3.12.0/envs/ouro/lib/python3.12/site-packages (from ouro-py==0.2.16) (1.9.0)\n",
      "Requirement already satisfied: httpx in /Users/mmoderwell/.pyenv/versions/3.12.0/envs/ouro/lib/python3.12/site-packages (from ouro-py==0.2.16) (0.27.0)\n",
      "Requirement already satisfied: numpy in /Users/mmoderwell/.pyenv/versions/3.12.0/envs/ouro/lib/python3.12/site-packages (from ouro-py==0.2.16) (1.26.4)\n",
      "Requirement already satisfied: pandas in /Users/mmoderwell/.pyenv/versions/3.12.0/envs/ouro/lib/python3.12/site-packages (from ouro-py==0.2.16) (2.2.2)\n",
      "Requirement already satisfied: postgrest in /Users/mmoderwell/.pyenv/versions/3.12.0/envs/ouro/lib/python3.12/site-packages (from ouro-py==0.2.16) (0.16.4)\n",
      "Requirement already satisfied: pydantic in /Users/mmoderwell/.pyenv/versions/3.12.0/envs/ouro/lib/python3.12/site-packages (from ouro-py==0.2.16) (2.7.1)\n",
      "Requirement already satisfied: python-dotenv in /Users/mmoderwell/.pyenv/versions/3.12.0/envs/ouro/lib/python3.12/site-packages (from ouro-py==0.2.16) (1.0.1)\n",
      "Requirement already satisfied: python-socketio[asyncio-client] in /Users/mmoderwell/.pyenv/versions/3.12.0/envs/ouro/lib/python3.12/site-packages (from ouro-py==0.2.16) (5.11.4)\n",
      "Requirement already satisfied: supabase in /Users/mmoderwell/.pyenv/versions/3.12.0/envs/ouro/lib/python3.12/site-packages (from ouro-py==0.2.16) (2.4.5)\n",
      "Requirement already satisfied: idna>=2.8 in /Users/mmoderwell/.pyenv/versions/3.12.0/envs/ouro/lib/python3.12/site-packages (from anyio->ouro-py==0.2.16) (3.7)\n",
      "Requirement already satisfied: sniffio>=1.1 in /Users/mmoderwell/.pyenv/versions/3.12.0/envs/ouro/lib/python3.12/site-packages (from anyio->ouro-py==0.2.16) (1.3.1)\n",
      "Requirement already satisfied: certifi in /Users/mmoderwell/.pyenv/versions/3.12.0/envs/ouro/lib/python3.12/site-packages (from httpx->ouro-py==0.2.16) (2024.2.2)\n",
      "Requirement already satisfied: httpcore==1.* in /Users/mmoderwell/.pyenv/versions/3.12.0/envs/ouro/lib/python3.12/site-packages (from httpx->ouro-py==0.2.16) (1.0.5)\n",
      "Requirement already satisfied: h11<0.15,>=0.13 in /Users/mmoderwell/.pyenv/versions/3.12.0/envs/ouro/lib/python3.12/site-packages (from httpcore==1.*->httpx->ouro-py==0.2.16) (0.14.0)\n",
      "Requirement already satisfied: python-dateutil>=2.8.2 in /Users/mmoderwell/.pyenv/versions/3.12.0/envs/ouro/lib/python3.12/site-packages (from pandas->ouro-py==0.2.16) (2.9.0.post0)\n",
      "Requirement already satisfied: pytz>=2020.1 in /Users/mmoderwell/.pyenv/versions/3.12.0/envs/ouro/lib/python3.12/site-packages (from pandas->ouro-py==0.2.16) (2024.1)\n",
      "Requirement already satisfied: tzdata>=2022.7 in /Users/mmoderwell/.pyenv/versions/3.12.0/envs/ouro/lib/python3.12/site-packages (from pandas->ouro-py==0.2.16) (2024.1)\n",
      "Requirement already satisfied: deprecation<3.0.0,>=2.1.0 in /Users/mmoderwell/.pyenv/versions/3.12.0/envs/ouro/lib/python3.12/site-packages (from postgrest->ouro-py==0.2.16) (2.1.0)\n",
      "Requirement already satisfied: strenum<0.5.0,>=0.4.9 in /Users/mmoderwell/.pyenv/versions/3.12.0/envs/ouro/lib/python3.12/site-packages (from postgrest->ouro-py==0.2.16) (0.4.15)\n",
      "Requirement already satisfied: annotated-types>=0.4.0 in /Users/mmoderwell/.pyenv/versions/3.12.0/envs/ouro/lib/python3.12/site-packages (from pydantic->ouro-py==0.2.16) (0.6.0)\n",
      "Requirement already satisfied: pydantic-core==2.18.2 in /Users/mmoderwell/.pyenv/versions/3.12.0/envs/ouro/lib/python3.12/site-packages (from pydantic->ouro-py==0.2.16) (2.18.2)\n",
      "Requirement already satisfied: typing-extensions>=4.6.1 in /Users/mmoderwell/.pyenv/versions/3.12.0/envs/ouro/lib/python3.12/site-packages (from pydantic->ouro-py==0.2.16) (4.11.0)\n",
      "\u001b[33mWARNING: python-socketio 5.11.4 does not provide the extra 'asyncio-client'\u001b[0m\u001b[33m\n",
      "\u001b[0mRequirement already satisfied: bidict>=0.21.0 in /Users/mmoderwell/.pyenv/versions/3.12.0/envs/ouro/lib/python3.12/site-packages (from python-socketio[asyncio-client]->ouro-py==0.2.16) (0.23.1)\n",
      "Requirement already satisfied: python-engineio>=4.8.0 in /Users/mmoderwell/.pyenv/versions/3.12.0/envs/ouro/lib/python3.12/site-packages (from python-socketio[asyncio-client]->ouro-py==0.2.16) (4.10.1)\n",
      "Requirement already satisfied: gotrue<3.0,>=1.3 in /Users/mmoderwell/.pyenv/versions/3.12.0/envs/ouro/lib/python3.12/site-packages (from supabase->ouro-py==0.2.16) (2.4.2)\n",
      "Requirement already satisfied: realtime<2.0.0,>=1.0.0 in /Users/mmoderwell/.pyenv/versions/3.12.0/envs/ouro/lib/python3.12/site-packages (from supabase->ouro-py==0.2.16) (1.0.4)\n",
      "Requirement already satisfied: storage3<0.8.0,>=0.5.3 in /Users/mmoderwell/.pyenv/versions/3.12.0/envs/ouro/lib/python3.12/site-packages (from supabase->ouro-py==0.2.16) (0.7.4)\n",
      "Requirement already satisfied: supafunc<0.5.0,>=0.3.1 in /Users/mmoderwell/.pyenv/versions/3.12.0/envs/ouro/lib/python3.12/site-packages (from supabase->ouro-py==0.2.16) (0.4.5)\n",
      "Requirement already satisfied: packaging in /Users/mmoderwell/.pyenv/versions/3.12.0/envs/ouro/lib/python3.12/site-packages (from deprecation<3.0.0,>=2.1.0->postgrest->ouro-py==0.2.16) (24.0)\n",
      "Requirement already satisfied: six>=1.5 in /Users/mmoderwell/.pyenv/versions/3.12.0/envs/ouro/lib/python3.12/site-packages (from python-dateutil>=2.8.2->pandas->ouro-py==0.2.16) (1.16.0)\n",
      "Requirement already satisfied: simple-websocket>=0.10.0 in /Users/mmoderwell/.pyenv/versions/3.12.0/envs/ouro/lib/python3.12/site-packages (from python-engineio>=4.8.0->python-socketio[asyncio-client]->ouro-py==0.2.16) (1.1.0)\n",
      "Requirement already satisfied: websockets<13,>=11 in /Users/mmoderwell/.pyenv/versions/3.12.0/envs/ouro/lib/python3.12/site-packages (from realtime<2.0.0,>=1.0.0->supabase->ouro-py==0.2.16) (12.0)\n",
      "Requirement already satisfied: wsproto in /Users/mmoderwell/.pyenv/versions/3.12.0/envs/ouro/lib/python3.12/site-packages (from simple-websocket>=0.10.0->python-engineio>=4.8.0->python-socketio[asyncio-client]->ouro-py==0.2.16) (1.2.0)\n",
      "Building wheels for collected packages: ouro-py\n",
      "  Building editable for ouro-py (pyproject.toml) ... \u001b[?25ldone\n",
      "\u001b[?25h  Created wheel for ouro-py: filename=ouro_py-0.2.16-py3-none-any.whl size=4041 sha256=40fb46066bda79a09ea471684905ceabf4e179895773a6c278deaabd6e26b66a\n",
      "  Stored in directory: /private/var/folders/zw/zcpqh2ss43v0d8_8mdqcds440000gn/T/pip-ephem-wheel-cache-er5g8ws9/wheels/dd/74/30/38eb8e81cd1a72254c053027ea92fcb40cb978570d9439e41e\n",
      "Successfully built ouro-py\n",
      "Installing collected packages: ouro-py\n",
      "  Attempting uninstall: ouro-py\n",
      "    Found existing installation: ouro-py 0.1.8\n",
      "    Uninstalling ouro-py-0.1.8:\n",
      "      Successfully uninstalled ouro-py-0.1.8\n",
      "Successfully installed ouro-py-0.2.16\n",
      "\n",
      "\u001b[1m[\u001b[0m\u001b[34;49mnotice\u001b[0m\u001b[1;39;49m]\u001b[0m\u001b[39;49m A new release of pip is available: \u001b[0m\u001b[31;49m23.2.1\u001b[0m\u001b[39;49m -> \u001b[0m\u001b[32;49m25.0.1\u001b[0m\n",
      "\u001b[1m[\u001b[0m\u001b[34;49mnotice\u001b[0m\u001b[1;39;49m]\u001b[0m\u001b[39;49m To update, run: \u001b[0m\u001b[32;49mpip install --upgrade pip\u001b[0m\n",
      "Note: you may need to restart the kernel to use updated packages.\n"
     ]
    }
   ],
   "source": [
    "%pip install -e ../../ouro-py"
   ]
  },
  {
   "cell_type": "code",
   "execution_count": 2,
   "metadata": {},
   "outputs": [
    {
     "name": "stderr",
     "output_type": "stream",
     "text": [
      "[2025-02-11 15:31:15 - httpx:1026 - INFO] HTTP Request: POST http://localhost:8003/users/get-token \"HTTP/1.1 200 OK\"\n",
      "[2025-02-11 15:31:15 - httpx:1026 - INFO] HTTP Request: GET http://127.0.0.1:54321/auth/v1/user \"HTTP/1.1 200 OK\"\n",
      "[2025-02-11 15:31:15 - ouro:188 - INFO] Successfully authenticated as matt@ouro.foundation\n"
     ]
    }
   ],
   "source": [
    "import os\n",
    "from ouro import Ouro\n",
    "import pandas as pd\n",
    "import dotenv\n",
    "\n",
    "dotenv.load_dotenv()\n",
    "\n",
    "api_key = os.getenv(\"OURO_API_KEY\")\n",
    "ouro = Ouro(api_key=api_key)"
   ]
  },
  {
   "cell_type": "code",
   "execution_count": 2,
   "metadata": {},
   "outputs": [
    {
     "name": "stderr",
     "output_type": "stream",
     "text": [
      "[2025-02-11 15:29:51 - httpx:1026 - INFO] HTTP Request: GET http://localhost:8003/datasets/23cb45d7-5f15-4f4f-9ee3-d6d2ab0148fc/data \"HTTP/1.1 200 OK\"\n"
     ]
    },
    {
     "ename": "Exception",
     "evalue": "{'name': 'PostgrestError', 'message': 'JSON object requested, multiple (or no) rows returned', 'details': 'The result contains 0 rows', 'code': 'PGRST116'}",
     "output_type": "error",
     "traceback": [
      "\u001b[0;31m---------------------------------------------------------------------------\u001b[0m",
      "\u001b[0;31mException\u001b[0m                                 Traceback (most recent call last)",
      "Cell \u001b[0;32mIn[2], line 1\u001b[0m\n\u001b[0;32m----> 1\u001b[0m data \u001b[38;5;241m=\u001b[39m \u001b[43mouro\u001b[49m\u001b[38;5;241;43m.\u001b[39;49m\u001b[43mdatasets\u001b[49m\u001b[38;5;241;43m.\u001b[39;49m\u001b[43mquery\u001b[49m\u001b[43m(\u001b[49m\u001b[38;5;124;43m\"\u001b[39;49m\u001b[38;5;124;43m23cb45d7-5f15-4f4f-9ee3-d6d2ab0148fc\u001b[39;49m\u001b[38;5;124;43m\"\u001b[39;49m\u001b[43m)\u001b[49m\n",
      "File \u001b[0;32m~/ouro/ouro-py/ouro/resources/datasets.py:168\u001b[0m, in \u001b[0;36mDatasets.query\u001b[0;34m(self, id)\u001b[0m\n\u001b[1;32m    166\u001b[0m response \u001b[38;5;241m=\u001b[39m request\u001b[38;5;241m.\u001b[39mjson()\n\u001b[1;32m    167\u001b[0m \u001b[38;5;28;01mif\u001b[39;00m response[\u001b[38;5;124m\"\u001b[39m\u001b[38;5;124merror\u001b[39m\u001b[38;5;124m\"\u001b[39m]:\n\u001b[0;32m--> 168\u001b[0m     \u001b[38;5;28;01mraise\u001b[39;00m \u001b[38;5;167;01mException\u001b[39;00m(response[\u001b[38;5;124m\"\u001b[39m\u001b[38;5;124merror\u001b[39m\u001b[38;5;124m\"\u001b[39m])\n\u001b[1;32m    170\u001b[0m \u001b[38;5;66;03m# Load the data as a DataFrame\u001b[39;00m\n\u001b[1;32m    171\u001b[0m df \u001b[38;5;241m=\u001b[39m pd\u001b[38;5;241m.\u001b[39mDataFrame(response[\u001b[38;5;124m\"\u001b[39m\u001b[38;5;124mdata\u001b[39m\u001b[38;5;124m\"\u001b[39m])\n",
      "\u001b[0;31mException\u001b[0m: {'name': 'PostgrestError', 'message': 'JSON object requested, multiple (or no) rows returned', 'details': 'The result contains 0 rows', 'code': 'PGRST116'}"
     ]
    }
   ],
   "source": [
    "data = ouro.datasets.query(\"23cb45d7-5f15-4f4f-9ee3-d6d2ab0148fc\")\n"
   ]
  },
  {
   "cell_type": "markdown",
   "metadata": {},
   "source": [
    "## Initialize\n"
   ]
  },
  {
   "cell_type": "markdown",
   "metadata": {},
   "source": [
    "## Earth\n"
   ]
  },
  {
   "cell_type": "markdown",
   "metadata": {},
   "source": [
    "### Create a dataset\n"
   ]
  },
  {
   "cell_type": "code",
   "execution_count": 1,
   "metadata": {},
   "outputs": [
    {
     "ename": "NameError",
     "evalue": "name 'pd' is not defined",
     "output_type": "error",
     "traceback": [
      "\u001b[0;31m---------------------------------------------------------------------------\u001b[0m",
      "\u001b[0;31mNameError\u001b[0m                                 Traceback (most recent call last)",
      "Cell \u001b[0;32mIn[1], line 1\u001b[0m\n\u001b[0;32m----> 1\u001b[0m data \u001b[38;5;241m=\u001b[39m \u001b[43mpd\u001b[49m\u001b[38;5;241m.\u001b[39mDataFrame(\n\u001b[1;32m      2\u001b[0m     [\n\u001b[1;32m      3\u001b[0m         {\u001b[38;5;124m\"\u001b[39m\u001b[38;5;124mname\u001b[39m\u001b[38;5;124m\"\u001b[39m: \u001b[38;5;124m\"\u001b[39m\u001b[38;5;124mBob\u001b[39m\u001b[38;5;124m\"\u001b[39m, \u001b[38;5;124m\"\u001b[39m\u001b[38;5;124mage\u001b[39m\u001b[38;5;124m\"\u001b[39m: \u001b[38;5;241m30\u001b[39m},\n\u001b[1;32m      4\u001b[0m         {\u001b[38;5;124m\"\u001b[39m\u001b[38;5;124mname\u001b[39m\u001b[38;5;124m\"\u001b[39m: \u001b[38;5;124m\"\u001b[39m\u001b[38;5;124mAlice\u001b[39m\u001b[38;5;124m\"\u001b[39m, \u001b[38;5;124m\"\u001b[39m\u001b[38;5;124mage\u001b[39m\u001b[38;5;124m\"\u001b[39m: \u001b[38;5;241m27\u001b[39m},\n\u001b[1;32m      5\u001b[0m         {\u001b[38;5;124m\"\u001b[39m\u001b[38;5;124mname\u001b[39m\u001b[38;5;124m\"\u001b[39m: \u001b[38;5;124m\"\u001b[39m\u001b[38;5;124mMatt\u001b[39m\u001b[38;5;124m\"\u001b[39m, \u001b[38;5;124m\"\u001b[39m\u001b[38;5;124mage\u001b[39m\u001b[38;5;124m\"\u001b[39m: \u001b[38;5;241m26\u001b[39m},\n\u001b[1;32m      6\u001b[0m         {\u001b[38;5;124m\"\u001b[39m\u001b[38;5;124mname\u001b[39m\u001b[38;5;124m\"\u001b[39m: \u001b[38;5;124m\"\u001b[39m\u001b[38;5;124mBobo\u001b[39m\u001b[38;5;124m\"\u001b[39m, \u001b[38;5;124m\"\u001b[39m\u001b[38;5;124mage\u001b[39m\u001b[38;5;124m\"\u001b[39m: \u001b[38;5;241m4\u001b[39m},\n\u001b[1;32m      7\u001b[0m         {\u001b[38;5;124m\"\u001b[39m\u001b[38;5;124mname\u001b[39m\u001b[38;5;124m\"\u001b[39m: \u001b[38;5;124m\"\u001b[39m\u001b[38;5;124mAsta\u001b[39m\u001b[38;5;124m\"\u001b[39m, \u001b[38;5;124m\"\u001b[39m\u001b[38;5;124mage\u001b[39m\u001b[38;5;124m\"\u001b[39m: \u001b[38;5;241m15\u001b[39m},\n\u001b[1;32m      8\u001b[0m     ]\n\u001b[1;32m      9\u001b[0m )\n\u001b[1;32m     11\u001b[0m res \u001b[38;5;241m=\u001b[39m ouro\u001b[38;5;241m.\u001b[39mdatasets\u001b[38;5;241m.\u001b[39mcreate(\n\u001b[1;32m     12\u001b[0m     data\u001b[38;5;241m=\u001b[39mdata,\n\u001b[1;32m     13\u001b[0m     name\u001b[38;5;241m=\u001b[39m\u001b[38;5;124m\"\u001b[39m\u001b[38;5;124mpreview-dataset\u001b[39m\u001b[38;5;124m\"\u001b[39m,\n\u001b[1;32m     14\u001b[0m     visibility\u001b[38;5;241m=\u001b[39m\u001b[38;5;124m\"\u001b[39m\u001b[38;5;124mpublic\u001b[39m\u001b[38;5;124m\"\u001b[39m,\n\u001b[1;32m     15\u001b[0m     monetization\u001b[38;5;241m=\u001b[39m\u001b[38;5;124m\"\u001b[39m\u001b[38;5;124mnone\u001b[39m\u001b[38;5;124m\"\u001b[39m\n\u001b[1;32m     16\u001b[0m )\n\u001b[1;32m     18\u001b[0m \u001b[38;5;28mprint\u001b[39m(res)\n",
      "\u001b[0;31mNameError\u001b[0m: name 'pd' is not defined"
     ]
    }
   ],
   "source": [
    "data = pd.DataFrame(\n",
    "    [\n",
    "        {\"name\": \"Bob\", \"age\": 30},\n",
    "        {\"name\": \"Alice\", \"age\": 27},\n",
    "        {\"name\": \"Matt\", \"age\": 26},\n",
    "        {\"name\": \"Bobo\", \"age\": 4},\n",
    "        {\"name\": \"Asta\", \"age\": 15},\n",
    "    ]\n",
    ")\n",
    "\n",
    "res = ouro.datasets.create(\n",
    "    data=data,\n",
    "    name=\"preview-dataset\",\n",
    "    visibility=\"public\",\n",
    "    monetization=\"none\"\n",
    ")\n",
    "\n",
    "print(res)"
   ]
  },
  {
   "cell_type": "markdown",
   "metadata": {},
   "source": [
    "### Read the dataset\n"
   ]
  },
  {
   "cell_type": "code",
   "execution_count": 3,
   "metadata": {},
   "outputs": [
    {
     "name": "stderr",
     "output_type": "stream",
     "text": [
      "[2025-02-11 15:31:18 - httpx:1026 - INFO] HTTP Request: GET http://localhost:8003/datasets/0194f68c-b16e-70d3-8ed3-aafa850272ae \"HTTP/1.1 200 OK\"\n"
     ]
    },
    {
     "data": {
      "text/plain": [
       "{'id': UUID('0194f68c-b16e-70d3-8ed3-aafa850272ae'),\n",
       " 'user_id': UUID('34bf5181-6fc9-44cb-9228-d74059be3572'),\n",
       " 'user': {'user_id': UUID('34bf5181-6fc9-44cb-9228-d74059be3572'),\n",
       "  'username': 'mmoderwell',\n",
       "  'avatar_path': '34bf5181-6fc9-44cb-9228-d74059be3572/s94v5png',\n",
       "  'bio': None,\n",
       "  'is_agent': False},\n",
       " 'org_id': UUID('00000000-0000-0000-0000-000000000000'),\n",
       " 'organization': {'id': UUID('00000000-0000-0000-0000-000000000000'),\n",
       "  'name': 'all',\n",
       "  'avatar_path': None,\n",
       "  'mission': None},\n",
       " 'visibility': 'public',\n",
       " 'asset_type': 'dataset',\n",
       " 'created_at': datetime.datetime(2025, 2, 11, 19, 46, 43, 183000, tzinfo=TzInfo(UTC)),\n",
       " 'last_updated': datetime.datetime(2025, 2, 11, 19, 46, 43, 183000, tzinfo=TzInfo(UTC)),\n",
       " 'name': 'preview-dataset',\n",
       " 'description': None,\n",
       " 'metadata': {'schema': 'datasets',\n",
       "  'columns': ['name', 'age'],\n",
       "  'table_name': 'preview-dataset'},\n",
       " 'monetization': 'none',\n",
       " 'price': 0.0,\n",
       " 'product_id': None,\n",
       " 'price_id': None,\n",
       " 'preview': [{'age': '30', 'name': 'Bob'},\n",
       "  {'age': '27', 'name': 'Alice'},\n",
       "  {'age': '26', 'name': 'Matt'},\n",
       "  {'age': '4', 'name': 'Bobo'},\n",
       "  {'age': '15', 'name': 'Asta'}],\n",
       " 'cost_accounting': None,\n",
       " 'cost_unit': None,\n",
       " 'unit_cost': 0.0,\n",
       " 'state': 'success'}"
      ]
     },
     "execution_count": 3,
     "metadata": {},
     "output_type": "execute_result"
    }
   ],
   "source": [
    "dataset_id = \"0194f68c-b16e-70d3-8ed3-aafa850272ae\"\n",
    "\n",
    "dataset = ouro.datasets.retrieve(dataset_id)\n",
    "# dataset = ouro.datasets.retrieve(dataset_id)\n",
    "dataset.model_dump()"
   ]
  },
  {
   "cell_type": "code",
   "execution_count": 6,
   "metadata": {},
   "outputs": [
    {
     "name": "stderr",
     "output_type": "stream",
     "text": [
      "[2025-02-11 15:34:36 - httpx:1026 - INFO] HTTP Request: GET http://localhost:8003/datasets/0194f68c-b16e-70d3-8ed3-aafa850272ae/schema \"HTTP/1.1 200 OK\"\n"
     ]
    },
    {
     "data": {
      "text/plain": [
       "[{'column_name': 'age',\n",
       "  'data_type': 'integer',\n",
       "  'fk_constraint_name': None,\n",
       "  'foreign_table_schema': None,\n",
       "  'foreign_table_name': None,\n",
       "  'foreign_column_name': None},\n",
       " {'column_name': 'name',\n",
       "  'data_type': 'text',\n",
       "  'fk_constraint_name': None,\n",
       "  'foreign_table_schema': None,\n",
       "  'foreign_table_name': None,\n",
       "  'foreign_column_name': None}]"
      ]
     },
     "execution_count": 6,
     "metadata": {},
     "output_type": "execute_result"
    }
   ],
   "source": [
    "ouro.datasets.schema(dataset_id)"
   ]
  },
  {
   "cell_type": "code",
   "execution_count": 1,
   "metadata": {},
   "outputs": [
    {
     "ename": "NameError",
     "evalue": "name 'ouro' is not defined",
     "output_type": "error",
     "traceback": [
      "\u001b[0;31m---------------------------------------------------------------------------\u001b[0m",
      "\u001b[0;31mNameError\u001b[0m                                 Traceback (most recent call last)",
      "Cell \u001b[0;32mIn[1], line 1\u001b[0m\n\u001b[0;32m----> 1\u001b[0m data \u001b[38;5;241m=\u001b[39m \u001b[43mouro\u001b[49m\u001b[38;5;241m.\u001b[39mdatasets\u001b[38;5;241m.\u001b[39mquery(dataset_id)\n\u001b[1;32m      2\u001b[0m data\n",
      "\u001b[0;31mNameError\u001b[0m: name 'ouro' is not defined"
     ]
    }
   ],
   "source": [
    "data = ouro.datasets.query(dataset_id)\n",
    "data"
   ]
  },
  {
   "cell_type": "code",
   "execution_count": 1,
   "metadata": {},
   "outputs": [
    {
     "ename": "NameError",
     "evalue": "name 'ouro' is not defined",
     "output_type": "error",
     "traceback": [
      "\u001b[0;31m---------------------------------------------------------------------------\u001b[0m",
      "\u001b[0;31mNameError\u001b[0m                                 Traceback (most recent call last)",
      "Cell \u001b[0;32mIn[1], line 3\u001b[0m\n\u001b[1;32m      1\u001b[0m \u001b[38;5;66;03m# data = ouro.elements.earth.datasets.query(dataset_id)\u001b[39;00m\n\u001b[1;32m      2\u001b[0m \u001b[38;5;66;03m# data = ouro.database.table(\"small-dataset\").select(\"*\").limit(1).execute()\u001b[39;00m\n\u001b[0;32m----> 3\u001b[0m data \u001b[38;5;241m=\u001b[39m \u001b[43mouro\u001b[49m\u001b[38;5;241m.\u001b[39melements\u001b[38;5;241m.\u001b[39mearth\u001b[38;5;241m.\u001b[39mdatasets\u001b[38;5;241m.\u001b[39mload(\u001b[38;5;124m\"\u001b[39m\u001b[38;5;124msmall-dataset\u001b[39m\u001b[38;5;124m\"\u001b[39m)\n\u001b[1;32m      5\u001b[0m data\n",
      "\u001b[0;31mNameError\u001b[0m: name 'ouro' is not defined"
     ]
    }
   ],
   "source": [
    "# data = ouro.datasets.query(dataset_id)\n",
    "data = ouro.database.table(\"small-dataset\").select(\"*\").limit(1).execute()\n",
    "data = ouro.datasets.load(\"small-dataset\")\n",
    "\n",
    "data"
   ]
  },
  {
   "cell_type": "code",
   "execution_count": 3,
   "metadata": {},
   "outputs": [
    {
     "name": "stderr",
     "output_type": "stream",
     "text": [
      "[2024-05-18 09:08:02 - httpx:1026 - INFO] HTTP Request: PUT http://localhost:8003/elements/earth/assets/018f86da-b1be-7099-9556-fe88fb6882c3 \"HTTP/1.1 200 OK\"\n"
     ]
    },
    {
     "data": {
      "text/plain": [
       "{'id': '018f86da-b1be-7099-9556-fe88fb6882c3',\n",
       " 'user_id': '4572c8c0-d773-400f-8495-b4d2634fe5ee',\n",
       " 'org_id': None,\n",
       " 'name': 'small-dataset',\n",
       " 'description': None,\n",
       " 'visibility': 'private',\n",
       " 'asset_type': 'dataset',\n",
       " 'metadata': {'schema': 'datasets', 'table_name': 'small-dataset'},\n",
       " 'monetization': 'none',\n",
       " 'price': None,\n",
       " 'product_id': 'prod_Q7giiDNvnHY9m9',\n",
       " 'price_id': 'price_1PHRKlKWXEwtjjvDaMkujjaV',\n",
       " 'created_at': '2024-05-17T14:00:30.399+00:00',\n",
       " 'last_updated': '2024-05-18T16:08:02.705+00:00',\n",
       " 'preview': None,\n",
       " 'cost_accounting': None,\n",
       " 'cost_unit': None,\n",
       " 'unit_cost': None}"
      ]
     },
     "execution_count": 3,
     "metadata": {},
     "output_type": "execute_result"
    }
   ],
   "source": [
    "update = {\n",
    "    \"visibility\": \"private\",\n",
    "}\n",
    "data = ouro.datasets.update(\"018f86da-b1be-7099-9556-fe88fb6882c3\", **update)\n",
    "data"
   ]
  }
 ],
 "metadata": {
  "kernelspec": {
   "display_name": "ouro",
   "language": "python",
   "name": "python3"
  },
  "language_info": {
   "codemirror_mode": {
    "name": "ipython",
    "version": 3
   },
   "file_extension": ".py",
   "mimetype": "text/x-python",
   "name": "python",
   "nbconvert_exporter": "python",
   "pygments_lexer": "ipython3",
   "version": "3.12.0"
  }
 },
 "nbformat": 4,
 "nbformat_minor": 2
}
