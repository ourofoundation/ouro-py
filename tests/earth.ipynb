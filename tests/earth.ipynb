{
 "cells": [
  {
   "cell_type": "code",
   "execution_count": 1,
   "metadata": {},
   "outputs": [
    {
     "name": "stderr",
     "output_type": "stream",
     "text": [
      "[2024-05-18 10:13:41 - httpx:1026 - INFO] HTTP Request: POST http://localhost:8003/users/get-token \"HTTP/1.1 200 OK\"\n",
      "[2024-05-18 10:13:41 - httpx:1026 - INFO] HTTP Request: POST http://localhost:8003/users/get-token \"HTTP/1.1 200 OK\"\n",
      "[2024-05-18 10:13:41 - httpx:1026 - INFO] HTTP Request: GET http://127.0.0.1:54321/auth/v1/user \"HTTP/1.1 200 OK\"\n",
      "[2024-05-18 10:13:41 - ouro._client:248 - INFO] Successfully logged in as matt@ouro.foundation.\n"
     ]
    }
   ],
   "source": [
    "import os\n",
    "from ouro import Ouro\n",
    "import pandas as pd\n",
    "\n",
    "api_key = \"71af2ffd480db93711239f859ac006e00f87c5e6c1d345ac0e297ca6705ba75986d9a237c7a81e1fe6a5ef85e3936db2ce86a41aa5d9bb0909b26e9c1807c4a8\"\n",
    "ouro = Ouro(api_key=api_key)"
   ]
  },
  {
   "cell_type": "markdown",
   "metadata": {},
   "source": [
    "## Initialize\n"
   ]
  },
  {
   "cell_type": "code",
   "execution_count": 1,
   "metadata": {},
   "outputs": [
    {
     "ename": "NameError",
     "evalue": "name 'Ouro' is not defined",
     "output_type": "error",
     "traceback": [
      "\u001b[0;31m---------------------------------------------------------------------------\u001b[0m",
      "\u001b[0;31mNameError\u001b[0m                                 Traceback (most recent call last)",
      "Cell \u001b[0;32mIn[1], line 2\u001b[0m\n\u001b[1;32m      1\u001b[0m api_key \u001b[38;5;241m=\u001b[39m \u001b[38;5;124m\"\u001b[39m\u001b[38;5;124m71af2ffd480db93711239f859ac006e00f87c5e6c1d345ac0e297ca6705ba75986d9a237c7a81e1fe6a5ef85e3936db2ce86a41aa5d9bb0909b26e9c1807c4a8\u001b[39m\u001b[38;5;124m\"\u001b[39m\n\u001b[0;32m----> 2\u001b[0m ouro \u001b[38;5;241m=\u001b[39m \u001b[43mOuro\u001b[49m(api_key\u001b[38;5;241m=\u001b[39mapi_key)\n",
      "\u001b[0;31mNameError\u001b[0m: name 'Ouro' is not defined"
     ]
    }
   ],
   "source": [
    "api_key = \"71af2ffd480db93711239f859ac006e00f87c5e6c1d345ac0e297ca6705ba75986d9a237c7a81e1fe6a5ef85e3936db2ce86a41aa5d9bb0909b26e9c1807c4a8\"\n",
    "ouro = Ouro(api_key=api_key)"
   ]
  },
  {
   "cell_type": "markdown",
   "metadata": {},
   "source": [
    "## Earth\n"
   ]
  },
  {
   "cell_type": "markdown",
   "metadata": {},
   "source": [
    "### Create a dataset\n"
   ]
  },
  {
   "cell_type": "code",
   "execution_count": 2,
   "metadata": {},
   "outputs": [
    {
     "name": "stderr",
     "output_type": "stream",
     "text": [
      "[2024-05-18 09:06:50 - httpx:1026 - INFO] HTTP Request: POST http://localhost:8003/elements/earth/create/from-schema \"HTTP/1.1 200 OK\"\n",
      "[2024-05-18 09:06:50 - ouro.resources.elements.earth.datasets:72 - INFO] {'data': {'id': '018f8c74-b5b1-73a0-98f7-d1f26534854e', 'user_id': '4572c8c0-d773-400f-8495-b4d2634fe5ee', 'org_id': None, 'name': 'preview-datasedst', 'description': None, 'visibility': 'public', 'asset_type': 'dataset', 'metadata': {'schema': 'datasets', 'table_name': 'preview-datasedst'}, 'monetization': 'none', 'price': 0, 'product_id': None, 'price_id': None, 'created_at': '2024-05-18T16:06:50.033+00:00', 'last_updated': '2024-05-18T16:06:50.033+00:00', 'preview': None, 'cost_accounting': None, 'cost_unit': None, 'unit_cost': 0}, 'error': None}\n",
      "[2024-05-18 09:06:50 - httpx:1026 - INFO] HTTP Request: POST http://127.0.0.1:54321/rest/v1/preview-datasedst?columns=%22age%22%2C%22name%22 \"HTTP/1.1 201 Created\"\n",
      "[2024-05-18 09:06:50 - ouro.resources.elements.earth.datasets:90 - INFO] Inserted 5 rows into preview-datasedst\n",
      "[2024-05-18 09:06:50 - httpx:1026 - INFO] HTTP Request: PUT http://localhost:8003/elements/earth/assets/018f8c74-b5b1-73a0-98f7-d1f26534854e \"HTTP/1.1 200 OK\"\n"
     ]
    },
    {
     "name": "stdout",
     "output_type": "stream",
     "text": [
      "{'id': '018f8c74-b5b1-73a0-98f7-d1f26534854e', 'user_id': '4572c8c0-d773-400f-8495-b4d2634fe5ee', 'org_id': None, 'name': 'preview-datasedst', 'description': None, 'visibility': 'public', 'asset_type': 'dataset', 'metadata': {'schema': 'datasets', 'table_name': 'preview-datasedst'}, 'monetization': 'none', 'price': 0, 'product_id': None, 'price_id': None, 'created_at': '2024-05-18T16:06:50.033+00:00', 'last_updated': '2024-05-18T16:06:50.033+00:00', 'preview': None, 'cost_accounting': None, 'cost_unit': None, 'unit_cost': 0}\n"
     ]
    }
   ],
   "source": [
    "data = pd.DataFrame(\n",
    "    [\n",
    "        {\"name\": \"Bob\", \"age\": 30},\n",
    "        {\"name\": \"Alice\", \"age\": 27},\n",
    "        {\"name\": \"Matt\", \"age\": 26},\n",
    "        {\"name\": \"Bobo\", \"age\": 4},\n",
    "        {\"name\": \"Asta\", \"age\": 15},\n",
    "    ]\n",
    ")\n",
    "\n",
    "res = ouro.elements.earth.datasets.create(\n",
    "    data=data,\n",
    "    name=\"preview-datasedst\",\n",
    "    visibility=\"public\",\n",
    "    monetization=\"none\"\n",
    ")\n",
    "\n",
    "print(res)"
   ]
  },
  {
   "cell_type": "markdown",
   "metadata": {},
   "source": [
    "### Read the dataset\n"
   ]
  },
  {
   "cell_type": "code",
   "execution_count": 3,
   "metadata": {},
   "outputs": [
    {
     "name": "stderr",
     "output_type": "stream",
     "text": [
      "[2024-05-18 08:27:07 - httpx:1026 - INFO] HTTP Request: GET http://localhost:8003/elements/earth/assets/018f86da-b1be-7099-9556-fe88fb6882c3 \"HTTP/1.1 200 OK\"\n"
     ]
    },
    {
     "data": {
      "text/plain": [
       "{'id': '018f86da-b1be-7099-9556-fe88fb6882c3',\n",
       " 'user_id': '4572c8c0-d773-400f-8495-b4d2634fe5ee',\n",
       " 'org_id': None,\n",
       " 'name': 'small-dataset',\n",
       " 'description': None,\n",
       " 'visibility': 'private',\n",
       " 'asset_type': 'dataset',\n",
       " 'metadata': {'schema': 'datasets', 'table_name': 'small-dataset'},\n",
       " 'monetization': 'none',\n",
       " 'price': None,\n",
       " 'product_id': 'prod_Q7giiDNvnHY9m9',\n",
       " 'price_id': 'price_1PHRKlKWXEwtjjvDaMkujjaV',\n",
       " 'created_at': '2024-05-17T14:00:30.399+00:00',\n",
       " 'last_updated': '2024-05-17T14:00:30.399+00:00',\n",
       " 'preview': None,\n",
       " 'cost_accounting': None,\n",
       " 'cost_unit': None,\n",
       " 'unit_cost': None}"
      ]
     },
     "execution_count": 3,
     "metadata": {},
     "output_type": "execute_result"
    }
   ],
   "source": [
    "dataset_id = \"018f86da-b1be-7099-9556-fe88fb6882c3\"\n",
    "\n",
    "dataset = ouro.elements.earth.datasets.retrieve(dataset_id)\n",
    "# dataset = ouro.datasets.retrieve(dataset_id)\n",
    "dataset"
   ]
  },
  {
   "cell_type": "code",
   "execution_count": 2,
   "metadata": {},
   "outputs": [
    {
     "name": "stderr",
     "output_type": "stream",
     "text": [
      "[2024-05-18 08:09:10 - httpx:1026 - INFO] HTTP Request: GET http://127.0.0.1:54321/rest/v1/small-dataset?select=%2A \"HTTP/1.1 200 OK\"\n",
      "[2024-05-18 08:09:10 - ouro.resources.elements.earth.datasets:138 - INFO] Loading 3 rows from datasets.small-dataset...\n"
     ]
    },
    {
     "name": "stderr",
     "output_type": "stream",
     "text": [
      "[2024-05-18 08:09:10 - httpx:1026 - INFO] HTTP Request: GET http://127.0.0.1:54321/rest/v1/small-dataset?select=%2A&limit=1000000 \"HTTP/1.1 200 OK\"\n",
      "[2024-05-18 08:09:10 - ouro.resources.elements.earth.datasets:156 - INFO] Finished loading data in 0.02 seconds.\n"
     ]
    },
    {
     "data": {
      "text/plain": [
       "[{'name': 'Bob', 'age': 30},\n",
       " {'name': 'Alice', 'age': 27},\n",
       " {'name': 'Matt', 'age': 26}]"
      ]
     },
     "execution_count": 2,
     "metadata": {},
     "output_type": "execute_result"
    }
   ],
   "source": [
    "# data = ouro.elements.earth.datasets.query(dataset_id)\n",
    "# data = ouro.database.table(\"small-dataset\").select(\"*\").limit(1).execute()\n",
    "data = ouro.elements.earth.datasets.load(\"small-dataset\")\n",
    "\n",
    "data"
   ]
  },
  {
   "cell_type": "code",
   "execution_count": 3,
   "metadata": {},
   "outputs": [
    {
     "name": "stderr",
     "output_type": "stream",
     "text": [
      "[2024-05-18 09:08:02 - httpx:1026 - INFO] HTTP Request: PUT http://localhost:8003/elements/earth/assets/018f86da-b1be-7099-9556-fe88fb6882c3 \"HTTP/1.1 200 OK\"\n"
     ]
    },
    {
     "data": {
      "text/plain": [
       "{'id': '018f86da-b1be-7099-9556-fe88fb6882c3',\n",
       " 'user_id': '4572c8c0-d773-400f-8495-b4d2634fe5ee',\n",
       " 'org_id': None,\n",
       " 'name': 'small-dataset',\n",
       " 'description': None,\n",
       " 'visibility': 'private',\n",
       " 'asset_type': 'dataset',\n",
       " 'metadata': {'schema': 'datasets', 'table_name': 'small-dataset'},\n",
       " 'monetization': 'none',\n",
       " 'price': None,\n",
       " 'product_id': 'prod_Q7giiDNvnHY9m9',\n",
       " 'price_id': 'price_1PHRKlKWXEwtjjvDaMkujjaV',\n",
       " 'created_at': '2024-05-17T14:00:30.399+00:00',\n",
       " 'last_updated': '2024-05-18T16:08:02.705+00:00',\n",
       " 'preview': None,\n",
       " 'cost_accounting': None,\n",
       " 'cost_unit': None,\n",
       " 'unit_cost': None}"
      ]
     },
     "execution_count": 3,
     "metadata": {},
     "output_type": "execute_result"
    }
   ],
   "source": [
    "update = {\n",
    "    \"visibility\": \"private\",\n",
    "}\n",
    "data = ouro.elements.earth.datasets.update(\"018f86da-b1be-7099-9556-fe88fb6882c3\", **update)\n",
    "data"
   ]
  }
 ],
 "metadata": {
  "kernelspec": {
   "display_name": "ouro",
   "language": "python",
   "name": "python3"
  },
  "language_info": {
   "codemirror_mode": {
    "name": "ipython",
    "version": 3
   },
   "file_extension": ".py",
   "mimetype": "text/x-python",
   "name": "python",
   "nbconvert_exporter": "python",
   "pygments_lexer": "ipython3",
   "version": "3.12.0"
  }
 },
 "nbformat": 4,
 "nbformat_minor": 2
}
