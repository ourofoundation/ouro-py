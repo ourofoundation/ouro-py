{
 "cells": [
  {
   "cell_type": "code",
   "execution_count": 1,
   "metadata": {},
   "outputs": [
    {
     "name": "stderr",
     "output_type": "stream",
     "text": [
      "[2024-07-25 07:39:51 - httpx:1026 - INFO] HTTP Request: POST http://localhost:8003/users/get-token \"HTTP/1.1 200 OK\"\n",
      "[2024-07-25 07:39:51 - httpx:1026 - INFO] HTTP Request: POST http://localhost:8003/users/get-token \"HTTP/1.1 200 OK\"\n",
      "[2024-07-25 07:39:51 - httpx:1026 - INFO] HTTP Request: GET http://127.0.0.1:54321/auth/v1/user \"HTTP/1.1 200 OK\"\n",
      "[2024-07-25 07:39:51 - ouro._client:246 - INFO] Successfully logged in as matt@ouro.foundation.\n"
     ]
    }
   ],
   "source": [
    "import os\n",
    "from ouro import Ouro\n",
    "import pandas as pd\n",
    "\n",
    "api_key = \"71af2ffd480db93711239f859ac006e00f87c5e6c1d345ac0e297ca6705ba75986d9a237c7a81e1fe6a5ef85e3936db2ce86a41aa5d9bb0909b26e9c1807c4a8\"\n",
    "ouro = Ouro(api_key=api_key)"
   ]
  },
  {
   "cell_type": "markdown",
   "metadata": {},
   "source": [
    "### Read a conversation\n"
   ]
  },
  {
   "cell_type": "code",
   "execution_count": 3,
   "metadata": {},
   "outputs": [
    {
     "name": "stderr",
     "output_type": "stream",
     "text": [
      "[2024-07-25 07:40:52 - httpx:1026 - INFO] HTTP Request: GET http://localhost:8003/conversations/dc76c7c1-152c-441b-a95c-01676f2584cb \"HTTP/1.1 200 OK\"\n"
     ]
    },
    {
     "name": "stdout",
     "output_type": "stream",
     "text": [
      "id=UUID('dc76c7c1-152c-441b-a95c-01676f2584cb') name='hi' description=None members=[UUID('4572c8c0-d773-400f-8495-b4d2634fe5ee'), UUID('7f916bb1-b186-4dbf-b8c9-f9627c9267f9')] summary=None metadata=None\n"
     ]
    }
   ],
   "source": [
    "res = ouro.conversations.retrieve(\"dc76c7c1-152c-441b-a95c-01676f2584cb\")\n",
    "print(res)"
   ]
  },
  {
   "cell_type": "markdown",
   "metadata": {},
   "source": [
    "### Read a post\n"
   ]
  },
  {
   "cell_type": "code",
   "execution_count": 6,
   "metadata": {},
   "outputs": [
    {
     "name": "stderr",
     "output_type": "stream",
     "text": [
      "[2024-07-25 07:22:03 - httpx:1026 - INFO] HTTP Request: GET http://localhost:8003/posts/0190ea44-bfef-7f8b-9e5f-503fc20a4d91 \"HTTP/1.1 200 OK\"\n"
     ]
    },
    {
     "data": {
      "text/plain": [
       "PostContent(text='# Hello World\\nThis is a paragraph written in code.\\n', data={'type': 'doc', 'content': [{'type': 'heading', 'attrs': {'level': 1}, 'content': [{'text': 'Hello World', 'type': 'text'}]}, {'type': 'paragraph', 'content': [{'text': 'This is a paragraph written in code.', 'type': 'text'}]}]})"
      ]
     },
     "execution_count": 6,
     "metadata": {},
     "output_type": "execute_result"
    }
   ],
   "source": [
    "post_id = \"0190ea44-bfef-7f8b-9e5f-503fc20a4d91\"\n",
    "\n",
    "post = ouro.posts.retrieve(post_id)\n",
    "post.content"
   ]
  },
  {
   "cell_type": "code",
   "execution_count": 13,
   "metadata": {},
   "outputs": [],
   "source": [
    "new_content = ouro.posts.Editor()\n",
    "new_content.new_header(level=1, text=\"Hello World\")\n",
    "new_content.new_paragraph(text=\"This is a paragraph\")\n",
    "new_content.new_paragraph(text=\"This is a paragraph, but different this time for teh lols\")"
   ]
  },
  {
   "cell_type": "code",
   "execution_count": 15,
   "metadata": {},
   "outputs": [
    {
     "name": "stderr",
     "output_type": "stream",
     "text": [
      "[2024-07-25 07:23:22 - httpx:1026 - INFO] HTTP Request: PUT http://localhost:8003/posts/0190ea44-bfef-7f8b-9e5f-503fc20a4d91 \"HTTP/1.1 200 OK\"\n"
     ]
    },
    {
     "data": {
      "text/plain": [
       "'# Hello World\\nThis is a paragraph written in code.\\n'"
      ]
     },
     "execution_count": 15,
     "metadata": {},
     "output_type": "execute_result"
    }
   ],
   "source": [
    "update = {\n",
    "    \"name\": \"Hello Worldses\",\n",
    "    \"visibility\": \"public\",\n",
    "    # \"content\": new_content,\n",
    "}\n",
    "data = ouro.posts.update(\"0190ea44-bfef-7f8b-9e5f-503fc20a4d91\", **update)\n",
    "data.content.text"
   ]
  }
 ],
 "metadata": {
  "kernelspec": {
   "display_name": "ouro",
   "language": "python",
   "name": "python3"
  },
  "language_info": {
   "codemirror_mode": {
    "name": "ipython",
    "version": 3
   },
   "file_extension": ".py",
   "mimetype": "text/x-python",
   "name": "python",
   "nbconvert_exporter": "python",
   "pygments_lexer": "ipython3",
   "version": "3.12.0"
  }
 },
 "nbformat": 4,
 "nbformat_minor": 2
}
