{
 "cells": [
  {
   "cell_type": "code",
   "execution_count": 1,
   "metadata": {},
   "outputs": [
    {
     "name": "stderr",
     "output_type": "stream",
     "text": [
      "/Users/mmoderwell/.pyenv/versions/3.12.0/envs/ouro/lib/python3.12/site-packages/pydantic/_internal/_fields.py:200: UserWarning: Field name \"json\" in \"PostContent\" shadows an attribute in parent \"BaseModel\"\n",
      "  warnings.warn(\n",
      "[2024-05-20 08:54:45 - httpx:1026 - INFO] HTTP Request: POST http://localhost:8003/users/get-token \"HTTP/1.1 200 OK\"\n",
      "[2024-05-20 08:54:45 - httpx:1026 - INFO] HTTP Request: POST http://localhost:8003/users/get-token \"HTTP/1.1 200 OK\"\n",
      "[2024-05-20 08:54:45 - httpx:1026 - INFO] HTTP Request: GET http://127.0.0.1:54321/auth/v1/user \"HTTP/1.1 200 OK\"\n",
      "[2024-05-20 08:54:45 - ouro._client:237 - INFO] Successfully logged in as matt@ouro.foundation.\n"
     ]
    }
   ],
   "source": [
    "import os\n",
    "from ouro import Ouro\n",
    "import pandas as pd\n",
    "\n",
    "api_key = \"71af2ffd480db93711239f859ac006e00f87c5e6c1d345ac0e297ca6705ba75986d9a237c7a81e1fe6a5ef85e3936db2ce86a41aa5d9bb0909b26e9c1807c4a8\"\n",
    "ouro = Ouro(api_key=api_key)"
   ]
  },
  {
   "cell_type": "code",
   "execution_count": 2,
   "metadata": {},
   "outputs": [
    {
     "data": {
      "text/plain": [
       "{'json': {'type': 'doc',\n",
       "  'content': [{'type': 'heading',\n",
       "    'attrs': {'level': 1},\n",
       "    'content': [{'text': 'Hello World', 'type': 'text'}]},\n",
       "   {'type': 'heading',\n",
       "    'attrs': {'level': 2},\n",
       "    'content': [{'text': 'Hi World', 'type': 'text'}]},\n",
       "   {'type': 'paragraph',\n",
       "    'content': [{'text': 'This is a paragraph', 'type': 'text'}]}]},\n",
       " 'text': '# Hello World\\n## Hi World\\nThis is a paragraph\\n'}"
      ]
     },
     "execution_count": 2,
     "metadata": {},
     "output_type": "execute_result"
    }
   ],
   "source": [
    "content = ouro.elements.air.Editor()\n",
    "content.new_header(level=1, text=\"Hello World\")\n",
    "content.new_header(level=2, text=\"Hi World\")\n",
    "content.new_paragraph(text=\"This is a paragraph\")\n",
    "content.to_dict()"
   ]
  },
  {
   "cell_type": "markdown",
   "metadata": {},
   "source": [
    "### Create a post\n"
   ]
  },
  {
   "cell_type": "code",
   "execution_count": 2,
   "metadata": {},
   "outputs": [
    {
     "name": "stderr",
     "output_type": "stream",
     "text": [
      "[2024-05-20 07:38:33 - httpx:1026 - INFO] HTTP Request: POST http://localhost:8003/elements/air/posts/create \"HTTP/1.1 200 OK\"\n"
     ]
    },
    {
     "name": "stdout",
     "output_type": "stream",
     "text": [
      "id=UUID('5cc81b4a-ac33-4710-a610-67e306aac28b') user_id=UUID('4572c8c0-d773-400f-8495-b4d2634fe5ee') org_id=None name='Hello World' visibility='private' asset_type='post' created_at=datetime.datetime(2024, 5, 20, 14, 38, 33, 97319, tzinfo=TzInfo(UTC)) last_updated=datetime.datetime(2024, 5, 20, 14, 38, 33, 97319, tzinfo=TzInfo(UTC)) description='This is a test post from the Python SDK' metadata=None monetization='none' price=None product_id=None price_id=None preview={'type': 'doc', 'content': [{'type': 'heading', 'attrs': {'level': 1}, 'content': [{'text': 'Hello World', 'type': 'text'}]}, {'type': 'paragraph', 'content': [{'text': 'This is a paragraph written in code.', 'type': 'text'}]}]} cost_accounting=None cost_unit=None unit_cost=None content=PostContent(text='# Hello World\\nThis is a paragraph written in code.\\n', json={'type': 'doc', 'content': [{'type': 'heading', 'attrs': {'level': 1}, 'content': [{'text': 'Hello World', 'type': 'text'}]}, {'type': 'paragraph', 'content': [{'text': 'This is a paragraph written in code.', 'type': 'text'}]}]}) comments=0 views=0\n"
     ]
    }
   ],
   "source": [
    "content = ouro.elements.air.Editor()\n",
    "content.new_header(level=1, text=\"Hello World\")\n",
    "content.new_paragraph(text=\"This is a paragraph written in code.\")\n",
    "\n",
    "res = ouro.elements.air.posts.create(\n",
    "    content=content,\n",
    "    name=\"Hello World\",\n",
    "    description=\"This is a test post from the Python SDK\",\n",
    "    visibility=\"private\",\n",
    ")\n",
    "print(res)"
   ]
  },
  {
   "cell_type": "markdown",
   "metadata": {},
   "source": [
    "### Read a post\n"
   ]
  },
  {
   "cell_type": "code",
   "execution_count": 4,
   "metadata": {},
   "outputs": [
    {
     "name": "stderr",
     "output_type": "stream",
     "text": [
      "[2024-05-20 07:38:37 - httpx:1026 - INFO] HTTP Request: GET http://localhost:8003/elements/air/posts/b9ff1bfd-b3ae-4e92-9afc-70b1e1e2011a \"HTTP/1.1 200 OK\"\n"
     ]
    },
    {
     "data": {
      "text/plain": [
       "PostContent(text='# Hello World\\nThis is a paragraph\\nThis is a paragraph, but different this time for teh lols\\n', json={'type': 'doc', 'content': [{'type': 'heading', 'attrs': {'level': 1}, 'content': [{'text': 'Hello World', 'type': 'text'}]}, {'type': 'paragraph', 'content': [{'text': 'This is a paragraph', 'type': 'text'}]}, {'type': 'paragraph', 'content': [{'text': 'This is a paragraph, but different this time for teh lols', 'type': 'text'}]}]})"
      ]
     },
     "execution_count": 4,
     "metadata": {},
     "output_type": "execute_result"
    }
   ],
   "source": [
    "post_id = \"b9ff1bfd-b3ae-4e92-9afc-70b1e1e2011a\"\n",
    "\n",
    "post = ouro.elements.air.posts.retrieve(post_id)\n",
    "post.content"
   ]
  },
  {
   "cell_type": "code",
   "execution_count": 12,
   "metadata": {},
   "outputs": [],
   "source": [
    "new_content = ouro.elements.air.Editor()\n",
    "new_content.new_header(level=1, text=\"Hello World\")\n",
    "new_content.new_paragraph(text=\"This is a paragraph\")\n",
    "new_content.new_paragraph(text=\"This is a paragraph, but different this time for teh lols\")"
   ]
  },
  {
   "cell_type": "code",
   "execution_count": 5,
   "metadata": {},
   "outputs": [
    {
     "name": "stderr",
     "output_type": "stream",
     "text": [
      "[2024-05-20 07:38:41 - httpx:1026 - INFO] HTTP Request: PUT http://localhost:8003/elements/air/posts/b9ff1bfd-b3ae-4e92-9afc-70b1e1e2011a \"HTTP/1.1 200 OK\"\n"
     ]
    },
    {
     "data": {
      "text/plain": [
       "'# Hello World\\nThis is a paragraph\\nThis is a paragraph, but different this time for teh lols\\n'"
      ]
     },
     "execution_count": 5,
     "metadata": {},
     "output_type": "execute_result"
    }
   ],
   "source": [
    "update = {\n",
    "    \"visibility\": \"public\",\n",
    "    # \"content\": new_content,\n",
    "}\n",
    "data = ouro.elements.air.posts.update(\"b9ff1bfd-b3ae-4e92-9afc-70b1e1e2011a\", **update)\n",
    "data.content.text"
   ]
  }
 ],
 "metadata": {
  "kernelspec": {
   "display_name": "ouro",
   "language": "python",
   "name": "python3"
  },
  "language_info": {
   "codemirror_mode": {
    "name": "ipython",
    "version": 3
   },
   "file_extension": ".py",
   "mimetype": "text/x-python",
   "name": "python",
   "nbconvert_exporter": "python",
   "pygments_lexer": "ipython3",
   "version": "3.12.0"
  }
 },
 "nbformat": 4,
 "nbformat_minor": 2
}
