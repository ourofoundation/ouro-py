{
 "cells": [
  {
   "cell_type": "code",
   "execution_count": 1,
   "metadata": {},
   "outputs": [
    {
     "name": "stderr",
     "output_type": "stream",
     "text": [
      "[2024-05-18 19:04:17 - httpx:1026 - INFO] HTTP Request: POST http://localhost:8003/users/get-token \"HTTP/1.1 200 OK\"\n",
      "[2024-05-18 19:04:17 - httpx:1026 - INFO] HTTP Request: POST http://localhost:8003/users/get-token \"HTTP/1.1 200 OK\"\n",
      "[2024-05-18 19:04:17 - httpx:1026 - INFO] HTTP Request: GET http://127.0.0.1:54321/auth/v1/user \"HTTP/1.1 200 OK\"\n",
      "[2024-05-18 19:04:17 - ouro._client:248 - INFO] Successfully logged in as matt@ouro.foundation.\n"
     ]
    }
   ],
   "source": [
    "import os\n",
    "from ouro import Ouro\n",
    "import pandas as pd\n",
    "\n",
    "api_key = \"71af2ffd480db93711239f859ac006e00f87c5e6c1d345ac0e297ca6705ba75986d9a237c7a81e1fe6a5ef85e3936db2ce86a41aa5d9bb0909b26e9c1807c4a8\"\n",
    "ouro = Ouro(api_key=api_key)"
   ]
  },
  {
   "cell_type": "markdown",
   "metadata": {},
   "source": [
    "### Create a post\n"
   ]
  },
  {
   "cell_type": "code",
   "execution_count": 8,
   "metadata": {},
   "outputs": [
    {
     "name": "stderr",
     "output_type": "stream",
     "text": [
      "[2024-05-18 19:02:02 - httpx:1026 - INFO] HTTP Request: POST http://localhost:8003/elements/air/create \"HTTP/1.1 200 OK\"\n"
     ]
    },
    {
     "name": "stdout",
     "output_type": "stream",
     "text": [
      "{'id': 'b9ff1bfd-b3ae-4e92-9afc-70b1e1e2011a', 'user_id': '4572c8c0-d773-400f-8495-b4d2634fe5ee', 'org_id': None, 'name': 'a-post', 'description': None, 'visibility': 'public', 'asset_type': 'post', 'metadata': None, 'monetization': 'none', 'price': None, 'product_id': None, 'price_id': None, 'created_at': '2024-05-19T02:02:02.795224+00:00', 'last_updated': '2024-05-19T02:02:02.795224+00:00', 'preview': {'type': 'doc', 'content': [{'type': 'heading', 'attrs': {'level': 1}, 'content': [{'text': 'Hello World', 'type': 'text'}]}, {'type': 'heading', 'attrs': {'level': 2}, 'content': [{'text': 'Hi World', 'type': 'text'}]}]}, 'cost_accounting': None, 'cost_unit': None, 'unit_cost': None}\n"
     ]
    }
   ],
   "source": [
    "content = ouro.elements.air.Editor()\n",
    "content.new_header(level=1, text=\"Hello World\")\n",
    "content.new_header(level=2, text=\"Hi World\")\n",
    "content.new_paragraph(text=\"This is a paragraph\")\n",
    "\n",
    "res = ouro.elements.air.posts.create(\n",
    "    content=content,\n",
    "    name=\"a-post\",\n",
    "    visibility=\"public\",\n",
    ")\n",
    "print(res)"
   ]
  },
  {
   "cell_type": "markdown",
   "metadata": {},
   "source": [
    "### Read a post\n"
   ]
  },
  {
   "cell_type": "code",
   "execution_count": 3,
   "metadata": {},
   "outputs": [
    {
     "name": "stderr",
     "output_type": "stream",
     "text": [
      "[2024-05-18 19:04:53 - httpx:1026 - INFO] HTTP Request: GET http://localhost:8003/elements/air/posts/b9ff1bfd-b3ae-4e92-9afc-70b1e1e2011a \"HTTP/1.1 200 OK\"\n"
     ]
    },
    {
     "name": "stdout",
     "output_type": "stream",
     "text": [
      "Hello World\n",
      "\n",
      "Hi World\n",
      "\n",
      "This is a paragraph\n",
      "\n",
      "What's this?\n"
     ]
    }
   ],
   "source": [
    "post_id = \"b9ff1bfd-b3ae-4e92-9afc-70b1e1e2011a\"\n",
    "\n",
    "post = ouro.elements.air.posts.retrieve(post_id)\n",
    "print(post['contents'].to_dict()[\"text\"])"
   ]
  },
  {
   "cell_type": "code",
   "execution_count": null,
   "metadata": {},
   "outputs": [],
   "source": [
    "new_content = ouro.elements.air.Editor()\n",
    "new_content.new_header(level=1, text=\"Hello World\")\n",
    "new_content.new_paragraph(text=\"This is a paragraph\")\n",
    "new_content.new_paragraph(text=\"This is a paragraph, but different this time\")"
   ]
  },
  {
   "cell_type": "code",
   "execution_count": 4,
   "metadata": {},
   "outputs": [
    {
     "name": "stderr",
     "output_type": "stream",
     "text": [
      "[2024-05-18 19:10:59 - httpx:1026 - INFO] HTTP Request: PUT http://localhost:8003/elements/air/posts/b9ff1bfd-b3ae-4e92-9afc-70b1e1e2011a \"HTTP/1.1 200 OK\"\n"
     ]
    },
    {
     "data": {
      "text/plain": [
       "{'id': 'b9ff1bfd-b3ae-4e92-9afc-70b1e1e2011a',\n",
       " 'user_id': '4572c8c0-d773-400f-8495-b4d2634fe5ee',\n",
       " 'org_id': None,\n",
       " 'name': 'Hello World',\n",
       " 'description': '',\n",
       " 'visibility': 'private',\n",
       " 'asset_type': 'post',\n",
       " 'metadata': None,\n",
       " 'monetization': 'none',\n",
       " 'price': None,\n",
       " 'product_id': 'prod_Q8FcH7enGI9sJG',\n",
       " 'price_id': 'price_1PHz7CKWXEwtjjvDyEelfHuh',\n",
       " 'created_at': '2024-05-19T02:02:02.795224+00:00',\n",
       " 'last_updated': '2024-05-19T02:02:02.795224+00:00',\n",
       " 'preview': {'type': 'doc',\n",
       "  'content': [{'type': 'heading',\n",
       "    'attrs': {'level': 1},\n",
       "    'content': [{'text': 'Hello World', 'type': 'text'}]},\n",
       "   {'type': 'heading',\n",
       "    'attrs': {'level': 2},\n",
       "    'content': [{'text': 'Hi World', 'type': 'text'}]}]},\n",
       " 'cost_accounting': None,\n",
       " 'cost_unit': None,\n",
       " 'unit_cost': None}"
      ]
     },
     "execution_count": 4,
     "metadata": {},
     "output_type": "execute_result"
    }
   ],
   "source": [
    "update = {\n",
    "    \"visibility\": \"private\",\n",
    "    \"content\": new_content,\n",
    "}\n",
    "data = ouro.elements.air.posts.update(\"b9ff1bfd-b3ae-4e92-9afc-70b1e1e2011a\", **update)\n",
    "data"
   ]
  }
 ],
 "metadata": {
  "kernelspec": {
   "display_name": "ouro",
   "language": "python",
   "name": "python3"
  },
  "language_info": {
   "codemirror_mode": {
    "name": "ipython",
    "version": 3
   },
   "file_extension": ".py",
   "mimetype": "text/x-python",
   "name": "python",
   "nbconvert_exporter": "python",
   "pygments_lexer": "ipython3",
   "version": "3.12.0"
  }
 },
 "nbformat": 4,
 "nbformat_minor": 2
}
