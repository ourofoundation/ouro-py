{
 "cells": [
  {
   "cell_type": "code",
   "execution_count": 1,
   "metadata": {},
   "outputs": [
    {
     "name": "stdout",
     "output_type": "stream",
     "text": [
      "Obtaining file:///Users/mmoderwell/ouro/ouro-py\n",
      "  Installing build dependencies ... \u001b[?25ldone\n",
      "\u001b[?25h  Checking if build backend supports build_editable ... \u001b[?25ldone\n",
      "\u001b[?25h  Getting requirements to build editable ... \u001b[?25ldone\n",
      "\u001b[?25h  Installing backend dependencies ... \u001b[?25ldone\n",
      "\u001b[?25h  Preparing editable metadata (pyproject.toml) ... \u001b[?25ldone\n",
      "\u001b[?25hRequirement already satisfied: anyio in /Users/mmoderwell/.pyenv/versions/3.12.0/envs/ouro/lib/python3.12/site-packages (from ouro-py==0.2.18) (4.3.0)\n",
      "Requirement already satisfied: distro in /Users/mmoderwell/.pyenv/versions/3.12.0/envs/ouro/lib/python3.12/site-packages (from ouro-py==0.2.18) (1.9.0)\n",
      "Requirement already satisfied: httpx in /Users/mmoderwell/.pyenv/versions/3.12.0/envs/ouro/lib/python3.12/site-packages (from ouro-py==0.2.18) (0.27.0)\n",
      "Requirement already satisfied: numpy in /Users/mmoderwell/.pyenv/versions/3.12.0/envs/ouro/lib/python3.12/site-packages (from ouro-py==0.2.18) (1.26.4)\n",
      "Requirement already satisfied: pandas in /Users/mmoderwell/.pyenv/versions/3.12.0/envs/ouro/lib/python3.12/site-packages (from ouro-py==0.2.18) (2.2.2)\n",
      "Requirement already satisfied: postgrest in /Users/mmoderwell/.pyenv/versions/3.12.0/envs/ouro/lib/python3.12/site-packages (from ouro-py==0.2.18) (0.16.4)\n",
      "Requirement already satisfied: pydantic in /Users/mmoderwell/.pyenv/versions/3.12.0/envs/ouro/lib/python3.12/site-packages (from ouro-py==0.2.18) (2.7.1)\n",
      "Requirement already satisfied: python-dotenv in /Users/mmoderwell/.pyenv/versions/3.12.0/envs/ouro/lib/python3.12/site-packages (from ouro-py==0.2.18) (1.0.1)\n",
      "Requirement already satisfied: python-socketio[asyncio-client] in /Users/mmoderwell/.pyenv/versions/3.12.0/envs/ouro/lib/python3.12/site-packages (from ouro-py==0.2.18) (5.11.4)\n",
      "Requirement already satisfied: supabase in /Users/mmoderwell/.pyenv/versions/3.12.0/envs/ouro/lib/python3.12/site-packages (from ouro-py==0.2.18) (2.4.5)\n",
      "Requirement already satisfied: idna>=2.8 in /Users/mmoderwell/.pyenv/versions/3.12.0/envs/ouro/lib/python3.12/site-packages (from anyio->ouro-py==0.2.18) (3.7)\n",
      "Requirement already satisfied: sniffio>=1.1 in /Users/mmoderwell/.pyenv/versions/3.12.0/envs/ouro/lib/python3.12/site-packages (from anyio->ouro-py==0.2.18) (1.3.1)\n",
      "Requirement already satisfied: certifi in /Users/mmoderwell/.pyenv/versions/3.12.0/envs/ouro/lib/python3.12/site-packages (from httpx->ouro-py==0.2.18) (2024.2.2)\n",
      "Requirement already satisfied: httpcore==1.* in /Users/mmoderwell/.pyenv/versions/3.12.0/envs/ouro/lib/python3.12/site-packages (from httpx->ouro-py==0.2.18) (1.0.5)\n",
      "Requirement already satisfied: h11<0.15,>=0.13 in /Users/mmoderwell/.pyenv/versions/3.12.0/envs/ouro/lib/python3.12/site-packages (from httpcore==1.*->httpx->ouro-py==0.2.18) (0.14.0)\n",
      "Requirement already satisfied: python-dateutil>=2.8.2 in /Users/mmoderwell/.pyenv/versions/3.12.0/envs/ouro/lib/python3.12/site-packages (from pandas->ouro-py==0.2.18) (2.9.0.post0)\n",
      "Requirement already satisfied: pytz>=2020.1 in /Users/mmoderwell/.pyenv/versions/3.12.0/envs/ouro/lib/python3.12/site-packages (from pandas->ouro-py==0.2.18) (2024.1)\n",
      "Requirement already satisfied: tzdata>=2022.7 in /Users/mmoderwell/.pyenv/versions/3.12.0/envs/ouro/lib/python3.12/site-packages (from pandas->ouro-py==0.2.18) (2024.1)\n",
      "Requirement already satisfied: deprecation<3.0.0,>=2.1.0 in /Users/mmoderwell/.pyenv/versions/3.12.0/envs/ouro/lib/python3.12/site-packages (from postgrest->ouro-py==0.2.18) (2.1.0)\n",
      "Requirement already satisfied: strenum<0.5.0,>=0.4.9 in /Users/mmoderwell/.pyenv/versions/3.12.0/envs/ouro/lib/python3.12/site-packages (from postgrest->ouro-py==0.2.18) (0.4.15)\n",
      "Requirement already satisfied: annotated-types>=0.4.0 in /Users/mmoderwell/.pyenv/versions/3.12.0/envs/ouro/lib/python3.12/site-packages (from pydantic->ouro-py==0.2.18) (0.6.0)\n",
      "Requirement already satisfied: pydantic-core==2.18.2 in /Users/mmoderwell/.pyenv/versions/3.12.0/envs/ouro/lib/python3.12/site-packages (from pydantic->ouro-py==0.2.18) (2.18.2)\n",
      "Requirement already satisfied: typing-extensions>=4.6.1 in /Users/mmoderwell/.pyenv/versions/3.12.0/envs/ouro/lib/python3.12/site-packages (from pydantic->ouro-py==0.2.18) (4.11.0)\n",
      "\u001b[33mWARNING: python-socketio 5.11.4 does not provide the extra 'asyncio-client'\u001b[0m\u001b[33m\n",
      "\u001b[0mRequirement already satisfied: bidict>=0.21.0 in /Users/mmoderwell/.pyenv/versions/3.12.0/envs/ouro/lib/python3.12/site-packages (from python-socketio[asyncio-client]->ouro-py==0.2.18) (0.23.1)\n",
      "Requirement already satisfied: python-engineio>=4.8.0 in /Users/mmoderwell/.pyenv/versions/3.12.0/envs/ouro/lib/python3.12/site-packages (from python-socketio[asyncio-client]->ouro-py==0.2.18) (4.10.1)\n",
      "Requirement already satisfied: gotrue<3.0,>=1.3 in /Users/mmoderwell/.pyenv/versions/3.12.0/envs/ouro/lib/python3.12/site-packages (from supabase->ouro-py==0.2.18) (2.4.2)\n",
      "Requirement already satisfied: realtime<2.0.0,>=1.0.0 in /Users/mmoderwell/.pyenv/versions/3.12.0/envs/ouro/lib/python3.12/site-packages (from supabase->ouro-py==0.2.18) (1.0.4)\n",
      "Requirement already satisfied: storage3<0.8.0,>=0.5.3 in /Users/mmoderwell/.pyenv/versions/3.12.0/envs/ouro/lib/python3.12/site-packages (from supabase->ouro-py==0.2.18) (0.7.4)\n",
      "Requirement already satisfied: supafunc<0.5.0,>=0.3.1 in /Users/mmoderwell/.pyenv/versions/3.12.0/envs/ouro/lib/python3.12/site-packages (from supabase->ouro-py==0.2.18) (0.4.5)\n",
      "Requirement already satisfied: packaging in /Users/mmoderwell/.pyenv/versions/3.12.0/envs/ouro/lib/python3.12/site-packages (from deprecation<3.0.0,>=2.1.0->postgrest->ouro-py==0.2.18) (24.0)\n",
      "Requirement already satisfied: six>=1.5 in /Users/mmoderwell/.pyenv/versions/3.12.0/envs/ouro/lib/python3.12/site-packages (from python-dateutil>=2.8.2->pandas->ouro-py==0.2.18) (1.16.0)\n",
      "Requirement already satisfied: simple-websocket>=0.10.0 in /Users/mmoderwell/.pyenv/versions/3.12.0/envs/ouro/lib/python3.12/site-packages (from python-engineio>=4.8.0->python-socketio[asyncio-client]->ouro-py==0.2.18) (1.1.0)\n",
      "Requirement already satisfied: websockets<13,>=11 in /Users/mmoderwell/.pyenv/versions/3.12.0/envs/ouro/lib/python3.12/site-packages (from realtime<2.0.0,>=1.0.0->supabase->ouro-py==0.2.18) (12.0)\n",
      "Requirement already satisfied: wsproto in /Users/mmoderwell/.pyenv/versions/3.12.0/envs/ouro/lib/python3.12/site-packages (from simple-websocket>=0.10.0->python-engineio>=4.8.0->python-socketio[asyncio-client]->ouro-py==0.2.18) (1.2.0)\n",
      "Building wheels for collected packages: ouro-py\n",
      "  Building editable for ouro-py (pyproject.toml) ... \u001b[?25ldone\n",
      "\u001b[?25h  Created wheel for ouro-py: filename=ouro_py-0.2.18-py3-none-any.whl size=4032 sha256=303b4b6263fad38282b84838e722738a32def556f76a8aa6a42448c4f408561d\n",
      "  Stored in directory: /private/var/folders/zw/zcpqh2ss43v0d8_8mdqcds440000gn/T/pip-ephem-wheel-cache-h8vug157/wheels/dd/74/30/38eb8e81cd1a72254c053027ea92fcb40cb978570d9439e41e\n",
      "Successfully built ouro-py\n",
      "Installing collected packages: ouro-py\n",
      "  Attempting uninstall: ouro-py\n",
      "    Found existing installation: ouro-py 0.2.18\n",
      "    Uninstalling ouro-py-0.2.18:\n",
      "      Successfully uninstalled ouro-py-0.2.18\n",
      "Successfully installed ouro-py-0.2.18\n",
      "\n",
      "\u001b[1m[\u001b[0m\u001b[34;49mnotice\u001b[0m\u001b[1;39;49m]\u001b[0m\u001b[39;49m A new release of pip is available: \u001b[0m\u001b[31;49m23.2.1\u001b[0m\u001b[39;49m -> \u001b[0m\u001b[32;49m25.1.1\u001b[0m\n",
      "\u001b[1m[\u001b[0m\u001b[34;49mnotice\u001b[0m\u001b[1;39;49m]\u001b[0m\u001b[39;49m To update, run: \u001b[0m\u001b[32;49mpip install --upgrade pip\u001b[0m\n",
      "Note: you may need to restart the kernel to use updated packages.\n"
     ]
    }
   ],
   "source": [
    "%pip install -e ../../ouro-py"
   ]
  },
  {
   "cell_type": "code",
   "execution_count": 1,
   "metadata": {},
   "outputs": [
    {
     "name": "stderr",
     "output_type": "stream",
     "text": [
      "[2025-06-18 14:53:05 - httpx:1026 - INFO] HTTP Request: POST http://localhost:8003/users/get-token \"HTTP/1.1 200 OK\"\n",
      "[2025-06-18 14:53:05 - httpx:1026 - INFO] HTTP Request: GET http://127.0.0.1:54321/auth/v1/user \"HTTP/1.1 200 OK\"\n",
      "[2025-06-18 14:53:05 - ouro:196 - INFO] Successfully authenticated as matt@ouro.foundation\n"
     ]
    }
   ],
   "source": [
    "import os\n",
    "from ouro import Ouro\n",
    "import pandas as pd\n",
    "import dotenv\n",
    "\n",
    "dotenv.load_dotenv()\n",
    "\n",
    "api_key = os.getenv(\"OURO_API_KEY\")\n",
    "ouro = Ouro(\n",
    "    api_key=os.environ.get(\"OURO_API_KEY\"),\n",
    "    base_url=os.environ.get(\"OURO_BACKEND_URL\"),\n",
    "    database_url=os.environ.get(\"SUPABASE_URL\"),\n",
    "    database_anon_key=os.environ.get(\"SUPABASE_ANON_KEY\"),\n",
    ")"
   ]
  },
  {
   "cell_type": "code",
   "execution_count": 4,
   "metadata": {},
   "outputs": [
    {
     "name": "stderr",
     "output_type": "stream",
     "text": [
      "[2025-06-18 13:47:13 - ouro.resources.files:60 - INFO] Uploading file to 5209ae3c-c95b-49b2-bd45-4e0973f3ff78/746162bd-567b-41d4-b184-d20a267563ed.cif in the public-files bucket\n",
      "[2025-06-18 13:47:13 - httpx:1026 - INFO] HTTP Request: POST http://127.0.0.1:54321/storage/v1/object/public-files/5209ae3c-c95b-49b2-bd45-4e0973f3ff78/746162bd-567b-41d4-b184-d20a267563ed.cif \"HTTP/1.1 200 OK\"\n",
      "[2025-06-18 13:47:13 - httpx:1026 - INFO] HTTP Request: POST http://127.0.0.1:54321/storage/v1/object/list/public-files \"HTTP/1.1 200 OK\"\n",
      "[2025-06-18 13:47:13 - httpx:1026 - INFO] HTTP Request: GET http://localhost:8003/files/978fd0f3-9ed8-4ab8-b11e-d38189bc02a8/metadata \"HTTP/1.1 200 OK\"\n",
      "[2025-06-18 13:47:14 - httpx:1026 - INFO] HTTP Request: POST http://localhost:8003/files/create \"HTTP/1.1 200 OK\"\n",
      "[2025-06-18 13:47:14 - ouro.resources.files:121 - INFO] {'data': {'id': '978fd0f3-9ed8-4ab8-b11e-d38189bc02a8', 'user_id': '5209ae3c-c95b-49b2-bd45-4e0973f3ff78', 'org_id': '00000000-0000-0000-0000-000000000000', 'team_id': '00000000-0000-0000-0000-000000000000', 'parent_id': None, 'name': 'cif file 1', 'name_url_slug': 'cif-file-1', 'description': 'Test file', 'visibility': 'public', 'asset_type': 'file', 'preview': None, 'metadata': {'id': '978fd0f3-9ed8-4ab8-b11e-d38189bc02a8', 'name': '746162bd-567b-41d4-b184-d20a267563ed.cif', 'path': '5209ae3c-c95b-49b2-bd45-4e0973f3ff78/746162bd-567b-41d4-b184-d20a267563ed.cif', 'size': 816, 'type': 'chemical/x-cif', 'bucket': 'public-files', 'extension': 'cif'}, 'monetization': 'none', 'price': 0, 'cost_accounting': None, 'cost_unit': None, 'unit_cost': 0, 'version': None, 'state': 'success', 'created_at': '2025-06-18T18:47:13.982+00:00', 'last_updated': '2025-06-18T18:47:13.982+00:00', 'user': {'user_id': '5209ae3c-c95b-49b2-bd45-4e0973f3ff78', 'is_agent': False, 'username': 'mmoderwell', 'plan_type': 'free', 'avatar_path': None}, 'organization': {'id': '00000000-0000-0000-0000-000000000000', 'name': 'all'}, 'team': {'id': '00000000-0000-0000-0000-000000000000', 'name': 'all'}, 'slug': '/files/mmoderwell/cif-file-1'}, 'error': None}\n"
     ]
    },
    {
     "name": "stdout",
     "output_type": "stream",
     "text": [
      "id=UUID('978fd0f3-9ed8-4ab8-b11e-d38189bc02a8') user_id=UUID('5209ae3c-c95b-49b2-bd45-4e0973f3ff78') user=UserProfile(user_id=UUID('5209ae3c-c95b-49b2-bd45-4e0973f3ff78'), username='mmoderwell', avatar_path=None, bio=None, is_agent=False) org_id=UUID('00000000-0000-0000-0000-000000000000') team_id=UUID('00000000-0000-0000-0000-000000000000') parent_id=None organization=OrganizationProfile(id=UUID('00000000-0000-0000-0000-000000000000'), name='all', avatar_path=None, mission=None) visibility='public' asset_type='file' created_at=datetime.datetime(2025, 6, 18, 18, 47, 13, 982000, tzinfo=TzInfo(UTC)) last_updated=datetime.datetime(2025, 6, 18, 18, 47, 13, 982000, tzinfo=TzInfo(UTC)) name='cif file 1' description='Test file' metadata=FileMetadata(name='746162bd-567b-41d4-b184-d20a267563ed.cif', path='5209ae3c-c95b-49b2-bd45-4e0973f3ff78/746162bd-567b-41d4-b184-d20a267563ed.cif', size=816, type='chemical/x-cif', bucket='public-files', id=UUID('978fd0f3-9ed8-4ab8-b11e-d38189bc02a8'), fullPath=None) monetization='none' price=0.0 preview=None cost_accounting=None cost_unit=None unit_cost=0.0 state='success' data=None\n"
     ]
    }
   ],
   "source": [
    "file = ouro.files.create(\n",
    "    name=\"cif file\",\n",
    "    description=\"Test file\",\n",
    "    visibility=\"public\",\n",
    "    file_path=\"./Fe.cif\",\n",
    ")\n",
    "print(file)"
   ]
  },
  {
   "cell_type": "code",
   "execution_count": 2,
   "metadata": {},
   "outputs": [
    {
     "name": "stderr",
     "output_type": "stream",
     "text": [
      "[2025-06-18 14:38:55 - httpx:1026 - INFO] HTTP Request: GET http://localhost:8003/files/978fd0f3-9ed8-4ab8-b11e-d38189bc02a8 \"HTTP/1.1 200 OK\"\n",
      "[2025-06-18 14:38:55 - httpx:1026 - INFO] HTTP Request: GET http://localhost:8003/files/978fd0f3-9ed8-4ab8-b11e-d38189bc02a8/data \"HTTP/1.1 200 OK\"\n",
      "[2025-06-18 14:38:55 - httpx:1026 - INFO] HTTP Request: GET http://localhost:8003/files/978fd0f3-9ed8-4ab8-b11e-d38189bc02a8/data \"HTTP/1.1 200 OK\"\n"
     ]
    },
    {
     "data": {
      "text/plain": [
       "FileData(url='http://127.0.0.1:54321/storage/v1/object/public/public-files/5209ae3c-c95b-49b2-bd45-4e0973f3ff78/746162bd-567b-41d4-b184-d20a267563ed.cif')"
      ]
     },
     "execution_count": 2,
     "metadata": {},
     "output_type": "execute_result"
    }
   ],
   "source": [
    "id = '978fd0f3-9ed8-4ab8-b11e-d38189bc02a8'\n",
    "file = ouro.files.retrieve(id)\n",
    "file.read_data()"
   ]
  },
  {
   "cell_type": "code",
   "execution_count": 3,
   "metadata": {},
   "outputs": [
    {
     "name": "stderr",
     "output_type": "stream",
     "text": [
      "[2025-06-18 14:24:31 - httpx:1026 - INFO] HTTP Request: POST http://localhost:8003/elements/common/name-to-id \"HTTP/1.1 200 OK\"\n",
      "[2025-06-18 14:24:31 - httpx:1026 - INFO] HTTP Request: GET http://localhost:8003/routes/05847b60-7202-4612-b028-35e5852d8ca6 \"HTTP/1.1 200 OK\"\n",
      "[2025-06-18 14:24:31 - httpx:1026 - INFO] HTTP Request: POST http://localhost:8003/services/a3c41643-2ff3-45e0-b389-62cc7d97f78b/routes/05847b60-7202-4612-b028-35e5852d8ca6/use \"HTTP/1.1 200 OK\"\n"
     ]
    },
    {
     "name": "stdout",
     "output_type": "stream",
     "text": [
      "{'temperature': 1037.52, 'units': 'K'}\n"
     ]
    }
   ],
   "source": [
    "res = ouro.routes.use(\n",
    "    \"hermes/post-magnetism-curie-temperature\",\n",
    "    body={\n",
    "        \"file\": {\n",
    "            \"type\": file.metadata.type,\n",
    "            \"filename\": file.metadata.name,\n",
    "            \"url\": file.data.url\n",
    "        }\n",
    "    },\n",
    ")\n",
    "print(res)"
   ]
  },
  {
   "cell_type": "code",
   "execution_count": 9,
   "metadata": {},
   "outputs": [
    {
     "name": "stderr",
     "output_type": "stream",
     "text": [
      "[2025-06-18 14:44:05 - httpx:1026 - INFO] HTTP Request: GET http://localhost:8003/routes/05847b60-7202-4612-b028-35e5852d8ca6 \"HTTP/1.1 200 OK\"\n",
      "[2025-06-18 14:44:05 - httpx:1026 - INFO] HTTP Request: POST http://localhost:8003/services/a3c41643-2ff3-45e0-b389-62cc7d97f78b/routes/05847b60-7202-4612-b028-35e5852d8ca6/use \"HTTP/1.1 200 OK\"\n"
     ]
    },
    {
     "name": "stdout",
     "output_type": "stream",
     "text": [
      "{'temperature': 1037.52, 'units': 'K'}\n"
     ]
    }
   ],
   "source": [
    "res = ouro.routes.use(\n",
    "    \"05847b60-7202-4612-b028-35e5852d8ca6\",\n",
    "    input_asset={\n",
    "        \"assetId\": \"978fd0f3-9ed8-4ab8-b11e-d38189bc02a8\",\n",
    "        \"assetType\": \"file\"\n",
    "    },\n",
    ")\n",
    "print(res)"
   ]
  },
  {
   "cell_type": "code",
   "execution_count": 4,
   "metadata": {},
   "outputs": [
    {
     "name": "stderr",
     "output_type": "stream",
     "text": [
      "[2025-06-18 14:53:23 - httpx:1026 - INFO] HTTP Request: POST http://localhost:8003/elements/common/name-to-id \"HTTP/1.1 200 OK\"\n"
     ]
    },
    {
     "name": "stderr",
     "output_type": "stream",
     "text": [
      "[2025-06-18 14:53:23 - httpx:1026 - INFO] HTTP Request: GET http://localhost:8003/routes/05847b60-7202-4612-b028-35e5852d8ca6 \"HTTP/1.1 200 OK\"\n",
      "[2025-06-18 14:53:23 - httpx:1026 - INFO] HTTP Request: GET http://localhost:8003/routes/05847b60-7202-4612-b028-35e5852d8ca6/stats \"HTTP/1.1 200 OK\"\n",
      "[2025-06-18 14:53:23 - httpx:1026 - INFO] HTTP Request: GET http://localhost:8003/routes/05847b60-7202-4612-b028-35e5852d8ca6 \"HTTP/1.1 200 OK\"\n",
      "[2025-06-18 14:53:23 - httpx:1026 - INFO] HTTP Request: POST http://localhost:8003/services/a3c41643-2ff3-45e0-b389-62cc7d97f78b/routes/05847b60-7202-4612-b028-35e5852d8ca6/use \"HTTP/1.1 200 OK\"\n"
     ]
    },
    {
     "name": "stdout",
     "output_type": "stream",
     "text": [
      "{'temperature': 1037.52, 'units': 'K'}\n"
     ]
    }
   ],
   "source": [
    "route = ouro.routes.retrieve(\"hermes/post-magnetism-curie-temperature\")\n",
    "# route.read_cost(id)\n",
    "# route.read_analytics()\n",
    "route.read_stats()\n",
    "\n",
    "res = route.use(\n",
    "    input_asset={\n",
    "        \"assetId\": \"978fd0f3-9ed8-4ab8-b11e-d38189bc02a8\",\n",
    "        \"assetType\": \"file\"\n",
    "    },\n",
    ")\n",
    "print(res)"
   ]
  }
 ],
 "metadata": {
  "kernelspec": {
   "display_name": "ouro",
   "language": "python",
   "name": "python3"
  },
  "language_info": {
   "codemirror_mode": {
    "name": "ipython",
    "version": 3
   },
   "file_extension": ".py",
   "mimetype": "text/x-python",
   "name": "python",
   "nbconvert_exporter": "python",
   "pygments_lexer": "ipython3",
   "version": "3.12.0"
  }
 },
 "nbformat": 4,
 "nbformat_minor": 2
}
